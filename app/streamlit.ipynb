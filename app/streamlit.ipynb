{
 "cells": [
  {
   "cell_type": "code",
   "execution_count": 1,
   "id": "6fc9555e",
   "metadata": {
    "scrolled": true
   },
   "outputs": [
    {
     "name": "stdout",
     "output_type": "stream",
     "text": [
      "Collecting streamlit==1.20.0\n",
      "  Using cached streamlit-1.20.0-py2.py3-none-any.whl (9.6 MB)\n",
      "Collecting altair<5,>=3.2.0 (from streamlit==1.20.0)\n",
      "  Using cached altair-4.2.2-py3-none-any.whl (813 kB)\n",
      "Collecting blinker>=1.0.0 (from streamlit==1.20.0)\n",
      "  Using cached blinker-1.6.2-py3-none-any.whl (13 kB)\n",
      "Requirement already satisfied: cachetools>=4.0 in /Users/aliyajanmohamed/opt/anaconda3/envs/projectenv/lib/python3.11/site-packages (from streamlit==1.20.0) (5.3.1)\n",
      "Collecting click>=7.0 (from streamlit==1.20.0)\n",
      "  Downloading click-8.1.3-py3-none-any.whl (96 kB)\n",
      "\u001b[2K     \u001b[90m━━━━━━━━━━━━━━━━━━━━━━━━━━━━━━━━━━━━━━━━\u001b[0m \u001b[32m96.6/96.6 kB\u001b[0m \u001b[31m1.6 MB/s\u001b[0m eta \u001b[36m0:00:00\u001b[0ma \u001b[36m0:00:01\u001b[0m\n",
      "\u001b[?25hCollecting importlib-metadata>=1.4 (from streamlit==1.20.0)\n",
      "  Using cached importlib_metadata-6.6.0-py3-none-any.whl (22 kB)\n",
      "Requirement already satisfied: numpy in /Users/aliyajanmohamed/opt/anaconda3/envs/projectenv/lib/python3.11/site-packages (from streamlit==1.20.0) (1.24.3)\n",
      "Requirement already satisfied: packaging>=14.1 in /Users/aliyajanmohamed/opt/anaconda3/envs/projectenv/lib/python3.11/site-packages (from streamlit==1.20.0) (23.0)\n",
      "Collecting pandas<2,>=0.25 (from streamlit==1.20.0)\n",
      "  Downloading pandas-1.5.3-cp311-cp311-macosx_10_9_x86_64.whl (11.9 MB)\n",
      "\u001b[2K     \u001b[90m━━━━━━━━━━━━━━━━━━━━━━━━━━━━━━━━━━━━━━━━\u001b[0m \u001b[32m11.9/11.9 MB\u001b[0m \u001b[31m5.0 MB/s\u001b[0m eta \u001b[36m0:00:00\u001b[0m00:01\u001b[0m00:01\u001b[0m\n",
      "\u001b[?25hRequirement already satisfied: pillow>=6.2.0 in /Users/aliyajanmohamed/opt/anaconda3/envs/projectenv/lib/python3.11/site-packages (from streamlit==1.20.0) (9.5.0)\n",
      "Collecting protobuf<4,>=3.12 (from streamlit==1.20.0)\n",
      "  Downloading protobuf-3.20.3-py2.py3-none-any.whl (162 kB)\n",
      "\u001b[2K     \u001b[90m━━━━━━━━━━━━━━━━━━━━━━━━━━━━━━━━━━━━━━━\u001b[0m \u001b[32m162.1/162.1 kB\u001b[0m \u001b[31m1.9 MB/s\u001b[0m eta \u001b[36m0:00:00\u001b[0ma \u001b[36m0:00:01\u001b[0m\n",
      "\u001b[?25hCollecting pyarrow>=4.0 (from streamlit==1.20.0)\n",
      "  Downloading pyarrow-12.0.0-cp311-cp311-macosx_10_14_x86_64.whl (24.7 MB)\n",
      "\u001b[2K     \u001b[90m━━━━━━━━━━━━━━━━━━━━━━━━━━━━━━━━━━━━━━━━\u001b[0m \u001b[32m24.7/24.7 MB\u001b[0m \u001b[31m5.4 MB/s\u001b[0m eta \u001b[36m0:00:00\u001b[0m00:01\u001b[0m00:01\u001b[0mm\n",
      "\u001b[?25hCollecting pympler>=0.9 (from streamlit==1.20.0)\n",
      "  Using cached Pympler-1.0.1-py3-none-any.whl (164 kB)\n",
      "Requirement already satisfied: python-dateutil in /Users/aliyajanmohamed/opt/anaconda3/envs/projectenv/lib/python3.11/site-packages (from streamlit==1.20.0) (2.8.2)\n",
      "Requirement already satisfied: requests>=2.4 in /Users/aliyajanmohamed/opt/anaconda3/envs/projectenv/lib/python3.11/site-packages (from streamlit==1.20.0) (2.31.0)\n",
      "Collecting rich>=10.11.0 (from streamlit==1.20.0)\n",
      "  Using cached rich-13.4.1-py3-none-any.whl (239 kB)\n",
      "Collecting semver (from streamlit==1.20.0)\n",
      "  Using cached semver-3.0.0-py3-none-any.whl (17 kB)\n",
      "Collecting toml (from streamlit==1.20.0)\n",
      "  Downloading toml-0.10.2-py2.py3-none-any.whl (16 kB)\n",
      "Requirement already satisfied: typing-extensions>=3.10.0.0 in /Users/aliyajanmohamed/opt/anaconda3/envs/projectenv/lib/python3.11/site-packages (from streamlit==1.20.0) (4.5.0)\n",
      "Collecting tzlocal>=1.1 (from streamlit==1.20.0)\n",
      "  Downloading tzlocal-5.0.1-py3-none-any.whl (20 kB)\n",
      "Collecting validators>=0.2 (from streamlit==1.20.0)\n",
      "  Using cached validators-0.20.0.tar.gz (30 kB)\n",
      "  Preparing metadata (setup.py) ... \u001b[?25ldone\n",
      "\u001b[?25hRequirement already satisfied: gitpython!=3.1.19 in /Users/aliyajanmohamed/opt/anaconda3/envs/projectenv/lib/python3.11/site-packages (from streamlit==1.20.0) (3.1.31)\n",
      "Collecting pydeck>=0.1.dev5 (from streamlit==1.20.0)\n",
      "  Using cached pydeck-0.8.1b0-py2.py3-none-any.whl (4.8 MB)\n",
      "Requirement already satisfied: tornado>=6.0.3 in /Users/aliyajanmohamed/opt/anaconda3/envs/projectenv/lib/python3.11/site-packages (from streamlit==1.20.0) (6.2)\n",
      "Requirement already satisfied: entrypoints in /Users/aliyajanmohamed/opt/anaconda3/envs/projectenv/lib/python3.11/site-packages (from altair<5,>=3.2.0->streamlit==1.20.0) (0.4)\n",
      "Requirement already satisfied: jinja2 in /Users/aliyajanmohamed/opt/anaconda3/envs/projectenv/lib/python3.11/site-packages (from altair<5,>=3.2.0->streamlit==1.20.0) (3.1.2)\n",
      "Requirement already satisfied: jsonschema>=3.0 in /Users/aliyajanmohamed/opt/anaconda3/envs/projectenv/lib/python3.11/site-packages (from altair<5,>=3.2.0->streamlit==1.20.0) (4.17.3)\n",
      "Collecting toolz (from altair<5,>=3.2.0->streamlit==1.20.0)\n",
      "  Downloading toolz-0.12.0-py3-none-any.whl (55 kB)\n",
      "\u001b[2K     \u001b[90m━━━━━━━━━━━━━━━━━━━━━━━━━━━━━━━━━━━━━━━\u001b[0m \u001b[32m55.8/55.8 kB\u001b[0m \u001b[31m180.0 kB/s\u001b[0m eta \u001b[36m0:00:00\u001b[0ma \u001b[36m0:00:01\u001b[0m\n",
      "\u001b[?25hRequirement already satisfied: gitdb<5,>=4.0.1 in /Users/aliyajanmohamed/opt/anaconda3/envs/projectenv/lib/python3.11/site-packages (from gitpython!=3.1.19->streamlit==1.20.0) (4.0.10)\n",
      "Collecting zipp>=0.5 (from importlib-metadata>=1.4->streamlit==1.20.0)\n",
      "  Downloading zipp-3.15.0-py3-none-any.whl (6.8 kB)\n",
      "Requirement already satisfied: pytz>=2020.1 in /Users/aliyajanmohamed/opt/anaconda3/envs/projectenv/lib/python3.11/site-packages (from pandas<2,>=0.25->streamlit==1.20.0) (2023.3)\n",
      "Requirement already satisfied: six>=1.5 in /Users/aliyajanmohamed/opt/anaconda3/envs/projectenv/lib/python3.11/site-packages (from python-dateutil->streamlit==1.20.0) (1.16.0)\n",
      "Requirement already satisfied: charset-normalizer<4,>=2 in /Users/aliyajanmohamed/opt/anaconda3/envs/projectenv/lib/python3.11/site-packages (from requests>=2.4->streamlit==1.20.0) (3.1.0)\n",
      "Requirement already satisfied: idna<4,>=2.5 in /Users/aliyajanmohamed/opt/anaconda3/envs/projectenv/lib/python3.11/site-packages (from requests>=2.4->streamlit==1.20.0) (3.4)\n",
      "Requirement already satisfied: urllib3<3,>=1.21.1 in /Users/aliyajanmohamed/opt/anaconda3/envs/projectenv/lib/python3.11/site-packages (from requests>=2.4->streamlit==1.20.0) (1.26.16)\n",
      "Requirement already satisfied: certifi>=2017.4.17 in /Users/aliyajanmohamed/opt/anaconda3/envs/projectenv/lib/python3.11/site-packages (from requests>=2.4->streamlit==1.20.0) (2023.5.7)\n",
      "Collecting markdown-it-py<3.0.0,>=2.2.0 (from rich>=10.11.0->streamlit==1.20.0)\n",
      "  Using cached markdown_it_py-2.2.0-py3-none-any.whl (84 kB)\n",
      "Requirement already satisfied: pygments<3.0.0,>=2.13.0 in /Users/aliyajanmohamed/opt/anaconda3/envs/projectenv/lib/python3.11/site-packages (from rich>=10.11.0->streamlit==1.20.0) (2.15.1)\n",
      "Requirement already satisfied: decorator>=3.4.0 in /Users/aliyajanmohamed/opt/anaconda3/envs/projectenv/lib/python3.11/site-packages (from validators>=0.2->streamlit==1.20.0) (5.1.1)\n",
      "Requirement already satisfied: smmap<6,>=3.0.1 in /Users/aliyajanmohamed/opt/anaconda3/envs/projectenv/lib/python3.11/site-packages (from gitdb<5,>=4.0.1->gitpython!=3.1.19->streamlit==1.20.0) (5.0.0)\n",
      "Requirement already satisfied: MarkupSafe>=2.0 in /Users/aliyajanmohamed/opt/anaconda3/envs/projectenv/lib/python3.11/site-packages (from jinja2->altair<5,>=3.2.0->streamlit==1.20.0) (2.1.1)\n",
      "Requirement already satisfied: attrs>=17.4.0 in /Users/aliyajanmohamed/opt/anaconda3/envs/projectenv/lib/python3.11/site-packages (from jsonschema>=3.0->altair<5,>=3.2.0->streamlit==1.20.0) (22.1.0)\n",
      "Requirement already satisfied: pyrsistent!=0.17.0,!=0.17.1,!=0.17.2,>=0.14.0 in /Users/aliyajanmohamed/opt/anaconda3/envs/projectenv/lib/python3.11/site-packages (from jsonschema>=3.0->altair<5,>=3.2.0->streamlit==1.20.0) (0.18.0)\n",
      "Collecting mdurl~=0.1 (from markdown-it-py<3.0.0,>=2.2.0->rich>=10.11.0->streamlit==1.20.0)\n",
      "  Using cached mdurl-0.1.2-py3-none-any.whl (10.0 kB)\n",
      "Building wheels for collected packages: validators\n",
      "  Building wheel for validators (setup.py) ... \u001b[?25ldone\n",
      "\u001b[?25h  Created wheel for validators: filename=validators-0.20.0-py3-none-any.whl size=19579 sha256=4ed573639d1e672b1261af904fc3edab800ab04802350b989d3f67cd22f6be93\n",
      "  Stored in directory: /Users/aliyajanmohamed/Library/Caches/pip/wheels/82/35/dc/f88ec71edf2a5596bd72a8fa1b697277e0fcd3cde83048b8bf\n",
      "Successfully built validators\n",
      "Installing collected packages: zipp, validators, tzlocal, toolz, toml, semver, pympler, pyarrow, protobuf, mdurl, click, blinker, pydeck, pandas, markdown-it-py, importlib-metadata, rich, altair, streamlit\n",
      "  Attempting uninstall: protobuf\n",
      "    Found existing installation: protobuf 4.23.2\n",
      "    Uninstalling protobuf-4.23.2:\n",
      "      Successfully uninstalled protobuf-4.23.2\n"
     ]
    },
    {
     "name": "stdout",
     "output_type": "stream",
     "text": [
      "  Attempting uninstall: pandas\n",
      "    Found existing installation: pandas 2.0.2\n",
      "    Uninstalling pandas-2.0.2:\n",
      "      Successfully uninstalled pandas-2.0.2\n",
      "Successfully installed altair-4.2.2 blinker-1.6.2 click-8.1.3 importlib-metadata-6.6.0 markdown-it-py-2.2.0 mdurl-0.1.2 pandas-1.5.3 protobuf-3.20.3 pyarrow-12.0.0 pydeck-0.8.1b0 pympler-1.0.1 rich-13.4.1 semver-3.0.0 streamlit-1.20.0 toml-0.10.2 toolz-0.12.0 tzlocal-5.0.1 validators-0.20.0 zipp-3.15.0\n"
     ]
    }
   ],
   "source": [
    "!pip install streamlit==1.20.0"
   ]
  },
  {
   "cell_type": "code",
   "execution_count": 1,
   "id": "ad765537",
   "metadata": {},
   "outputs": [],
   "source": [
    "import streamlit as st"
   ]
  },
  {
   "cell_type": "code",
   "execution_count": 2,
   "id": "10e5f259",
   "metadata": {},
   "outputs": [],
   "source": [
    "import subprocess\n",
    "\n",
    "def run_streamlit_app():\n",
    "    subprocess.Popen([\"streamlit\", \"run\", \"Home.py\"])"
   ]
  },
  {
   "cell_type": "code",
   "execution_count": 3,
   "id": "d5324862",
   "metadata": {},
   "outputs": [],
   "source": [
    "run_streamlit_app()"
   ]
  },
  {
   "cell_type": "code",
   "execution_count": null,
   "id": "3f41dc82",
   "metadata": {},
   "outputs": [],
   "source": []
  }
 ],
 "metadata": {
  "kernelspec": {
   "display_name": "Python 3 (ipykernel)",
   "language": "python",
   "name": "python3"
  },
  "language_info": {
   "codemirror_mode": {
    "name": "ipython",
    "version": 3
   },
   "file_extension": ".py",
   "mimetype": "text/x-python",
   "name": "python",
   "nbconvert_exporter": "python",
   "pygments_lexer": "ipython3",
   "version": "3.11.3"
  }
 },
 "nbformat": 4,
 "nbformat_minor": 5
}
